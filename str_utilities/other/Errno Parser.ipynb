{
 "cells": [
  {
   "cell_type": "code",
   "execution_count": 29,
   "metadata": {},
   "outputs": [],
   "source": [
    "x = \"\"\"\n",
    "#ifdef EPERM\n",
    "/*\n",
    "TRANS Only the owner of the file (or other resource)\n",
    "TRANS or processes with special privileges can perform the operation. */\n",
    "_S(EPERM, N_(\"Operation not permitted\"))\n",
    "#endif\n",
    "#ifdef ENOENT\n",
    "/*\n",
    "TRANS This is a ''file doesn't exist'' error\n",
    "TRANS for ordinary files that are referenced in contexts where they are\n",
    "TRANS expected to already exist. */\n",
    "_S(ENOENT, N_(\"No such file or directory\"))\n",
    "#endif\n",
    "#ifdef ESRCH\n",
    "...\n",
    "\"\"\""
   ]
  },
  {
   "cell_type": "markdown",
   "metadata": {},
   "source": [
    "```c\n",
    "#ifdef EPERM\n",
    "/*\n",
    "TRANS Only the owner of the file (or other resource)\n",
    "TRANS or processes with special privileges can perform the operation. */\n",
    "_S(EPERM, N_(\"Operation not permitted\"))\n",
    "#endif\n",
    "#ifdef ENOENT\n",
    "/*****\n",
    "TRANS This is a ''file doesn't exist'' error\n",
    "TRANS for ordinary files that are referenced in contexts where they are\n",
    "TRANS expected to already exist. */\n",
    "_S(ENOENT, N_(\"No such file or directory\"))\n",
    "#endif\n",
    "#ifdef ESRCH\n",
    "/*\n",
    "```"
   ]
  },
  {
   "cell_type": "code",
   "execution_count": null,
   "metadata": {},
   "outputs": [],
   "source": [
    "import re\n",
    "\n",
    "M_PAT = re.compile(\n",
    "r\"\"\"\n",
    "(?:\\#ifdef|\n",
    "\\#if\\s*defined\\s*\\(?)\\s*\n",
    "(?P<errname>[A-Z0-9-]+)\\s*\n",
    "(?P<errcomment>.+?)\\s*\n",
    "_S\\s*\\(\\1,\\s*N_\\s*\\(\"(?P<errdesc>[A-Za-z/*&^0-9? .-]+)\"\\)\\)\\s*\n",
    "\\#endif\n",
    "\"\"\", re.VERBOSE | re.DOTALL)\n",
    "\n",
    "for match in M_PAT.finditer(x):\n",
    "    errname = match.group(\"errname\")\n",
    "    errdesc = match.group(\"errdesc\")\n",
    "    errcomment = match.group(\"errcomment\")\n",
    "\n",
    "    errcomment = errcomment.strip()\n",
    "\n",
    "    i = errcomment.find(\"/*\")\n",
    "    if i != -1:\n",
    "        errcomment = errcomment[i+2:errcomment.find(\"*/\")]\n",
    "    errcomment = errcomment.replace(\"TRANS\", \"\")\n",
    "    errcomment = \" \".join(errcomment.split())\n",
    "    errcomment = errcomment.replace(\"`\", \"'\")\n",
    "    errcomment = errcomment.replace(\"''\", '\"')\n",
    "\n",
    "    print(f\"| {errname} | {errdesc} | {errcomment} |\")"
   ]
  },
  {
   "cell_type": "code",
   "execution_count": null,
   "metadata": {},
   "outputs": [],
   "source": []
  }
 ],
 "metadata": {
  "kernelspec": {
   "display_name": "Python 3",
   "language": "python",
   "name": "python3"
  },
  "language_info": {
   "codemirror_mode": {
    "name": "ipython",
    "version": 3
   },
   "file_extension": ".py",
   "mimetype": "text/x-python",
   "name": "python",
   "nbconvert_exporter": "python",
   "pygments_lexer": "ipython3",
   "version": "3.12.7"
  }
 },
 "nbformat": 4,
 "nbformat_minor": 2
}
